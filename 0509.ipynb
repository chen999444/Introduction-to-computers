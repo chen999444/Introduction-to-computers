{
  "nbformat": 4,
  "nbformat_minor": 0,
  "metadata": {
    "colab": {
      "name": "0509.ipynb",
      "provenance": [],
      "authorship_tag": "ABX9TyMkLhJ2uI1OOykJQitcr2NN",
      "include_colab_link": true
    },
    "kernelspec": {
      "name": "python3",
      "display_name": "Python 3"
    },
    "language_info": {
      "name": "python"
    }
  },
  "cells": [
    {
      "cell_type": "markdown",
      "metadata": {
        "id": "view-in-github",
        "colab_type": "text"
      },
      "source": [
        "<a href=\"https://colab.research.google.com/github/chen999444/Introduction-to-computers/blob/main/0509.ipynb\" target=\"_parent\"><img src=\"https://colab.research.google.com/assets/colab-badge.svg\" alt=\"Open In Colab\"/></a>"
      ]
    },
    {
      "cell_type": "code",
      "execution_count": 4,
      "metadata": {
        "colab": {
          "base_uri": "https://localhost:8080/"
        },
        "id": "1_KNIsDu5oRn",
        "outputId": "2a963139-0fa3-47b4-e37f-e23f63d228ea"
      },
      "outputs": [
        {
          "output_type": "stream",
          "name": "stdout",
          "text": [
            "請輸入你的體溫36.8\n",
            "體溫正常\n"
          ]
        }
      ],
      "source": [
        "temp=float(input('請輸入你的體溫'))\n",
        "if temp>37.5:\n",
        "  print('體溫過高')\n",
        "elif temp>=37 and temp <37.4:\n",
        "  print('體溫略高')\n",
        "elif temp>=34 and temp <36.9:\n",
        "  print('體溫正常')\n",
        "else:\n",
        "  print('體溫異常請重新量測')\n"
      ]
    },
    {
      "cell_type": "code",
      "source": [
        "score=int(input('請輸入成績'))\n",
        "if score>=90:\n",
        "  print('A')\n",
        "elif score<90 and score>=80:\n",
        "  print('B')\n",
        "elif score<80 and score>=70:\n",
        "  print('C')\n",
        "elif score<70 and score>=60:\n",
        "  print('D')\n",
        "else:\n",
        "  print('E')"
      ],
      "metadata": {
        "colab": {
          "base_uri": "https://localhost:8080/"
        },
        "id": "IiQcAEwoAW5Y",
        "outputId": "488cf707-ead0-40ec-c532-49c347f5afd4"
      },
      "execution_count": 8,
      "outputs": [
        {
          "output_type": "stream",
          "name": "stdout",
          "text": [
            "請輸入成績70\n",
            "C\n"
          ]
        }
      ]
    },
    {
      "cell_type": "code",
      "source": [
        "money=int(input('請輸入購物金額'))\n",
        "if (money>=10000):\n",
        "  if(money>=100000):\n",
        "    print('八折',money*0.8,end='元\\n')\n",
        "  elif(money>=50000):\n",
        "    print('八五折',money*0.85,end='元\\n')\n",
        "  elif(money>=30000):\n",
        "    print('九折',money*0.9,end='元\\n')\n",
        "  else:\n",
        "    print('九五折',money*0.9,end='元\\n')\n",
        "else:\n",
        "  print('沒打折',money,end='元\\n')"
      ],
      "metadata": {
        "colab": {
          "base_uri": "https://localhost:8080/"
        },
        "id": "39BOA0TxBMtT",
        "outputId": "29a2b957-472d-4a59-8aac-0689824c0564"
      },
      "execution_count": 13,
      "outputs": [
        {
          "output_type": "stream",
          "name": "stdout",
          "text": [
            "請輸入購物金額10000\n",
            "九五折 9000.0元\n"
          ]
        }
      ]
    },
    {
      "cell_type": "code",
      "source": [
        "a=int(input('請輸入月份'))\n",
        "if a>=3 and a<=5:\n",
        "  print(a,'月是春天')\n",
        "elif a>=6 and a<=8:\n",
        "    print(a,'月是夏天')\n",
        "elif a>=9 and a<=11:\n",
        "    print(a,'月是秋天')\n",
        "else:\n",
        "  print(a,'月是冬天')"
      ],
      "metadata": {
        "colab": {
          "base_uri": "https://localhost:8080/"
        },
        "id": "yGMUKg_EIRMF",
        "outputId": "8b6d6e70-4a84-413c-bdaf-ded16deb1637"
      },
      "execution_count": 20,
      "outputs": [
        {
          "output_type": "stream",
          "name": "stdout",
          "text": [
            "請輸入月份1\n",
            "1 月是冬天\n"
          ]
        }
      ]
    },
    {
      "cell_type": "code",
      "source": [
        "a=int(input('請輸入今年收入金額'))\n",
        "if (a>=300000):\n",
        "  if(a>=2000000):\n",
        "    print('付稅金額：',a*0.3,end='元\\n')\n",
        "  elif(a>=1000000):\n",
        "    print('付稅金額：',a*0.21,end='元\\n')\n",
        "  elif(a>=600000):\n",
        "    print('付稅金額：',a*0.13,end='元\\n')\n",
        "  else:\n",
        "    print('付稅金額：',a*0.06,end='元\\n')\n",
        "else:\n",
        "  print('付稅金額：',0,end='元\\n')"
      ],
      "metadata": {
        "colab": {
          "base_uri": "https://localhost:8080/"
        },
        "id": "yMy3jSrEKE7h",
        "outputId": "47f6ed11-979f-46a9-f861-ddeb26cb23c8"
      },
      "execution_count": 22,
      "outputs": [
        {
          "output_type": "stream",
          "name": "stdout",
          "text": [
            "請輸入今年收入金額50000000\n",
            "付稅金額： 15000000.0元\n"
          ]
        }
      ]
    }
  ]
}