{
  "nbformat": 4,
  "nbformat_minor": 0,
  "metadata": {
    "colab": {
      "name": "0523.ipynb",
      "provenance": [],
      "authorship_tag": "ABX9TyOI12gM1ONBp5OxOaIESxDK",
      "include_colab_link": true
    },
    "kernelspec": {
      "name": "python3",
      "display_name": "Python 3"
    },
    "language_info": {
      "name": "python"
    }
  },
  "cells": [
    {
      "cell_type": "markdown",
      "metadata": {
        "id": "view-in-github",
        "colab_type": "text"
      },
      "source": [
        "<a href=\"https://colab.research.google.com/github/chen999444/Introduction-to-computers/blob/main/0523.ipynb\" target=\"_parent\"><img src=\"https://colab.research.google.com/assets/colab-badge.svg\" alt=\"Open In Colab\"/></a>"
      ]
    },
    {
      "cell_type": "code",
      "execution_count": 1,
      "metadata": {
        "colab": {
          "base_uri": "https://localhost:8080/"
        },
        "id": "MUC8ig1l_eZt",
        "outputId": "a43eb9be-a145-4670-b953-130452cdce33"
      },
      "outputs": [
        {
          "output_type": "stream",
          "name": "stdout",
          "text": [
            "請輸入一個正整數50\n",
            "一到 50 的整數和為 1275\n"
          ]
        }
      ],
      "source": [
        "sum=0\n",
        "test=int(input('請輸入一個正整數'))\n",
        "for n in range(1,test+1):\n",
        "  sum=sum+n\n",
        "print('一到',test,'的整數和為',sum)"
      ]
    },
    {
      "cell_type": "code",
      "source": [
        "sum=0\n",
        "test=int(input('請輸入一個正整數'))\n",
        "for m in range(1,test+1):\n",
        "  sum=sum+m\n",
        "  print('一到',m,'的整數和為',sum)"
      ],
      "metadata": {
        "colab": {
          "base_uri": "https://localhost:8080/"
        },
        "id": "UZxa9gINAtav",
        "outputId": "3551f890-47fc-4b47-8667-d0d809dd0e85"
      },
      "execution_count": 3,
      "outputs": [
        {
          "output_type": "stream",
          "name": "stdout",
          "text": [
            "請輸入一個正整數50\n",
            "一到 1 的整數和為 1\n",
            "一到 2 的整數和為 3\n",
            "一到 3 的整數和為 6\n",
            "一到 4 的整數和為 10\n",
            "一到 5 的整數和為 15\n",
            "一到 6 的整數和為 21\n",
            "一到 7 的整數和為 28\n",
            "一到 8 的整數和為 36\n",
            "一到 9 的整數和為 45\n",
            "一到 10 的整數和為 55\n",
            "一到 11 的整數和為 66\n",
            "一到 12 的整數和為 78\n",
            "一到 13 的整數和為 91\n",
            "一到 14 的整數和為 105\n",
            "一到 15 的整數和為 120\n",
            "一到 16 的整數和為 136\n",
            "一到 17 的整數和為 153\n",
            "一到 18 的整數和為 171\n",
            "一到 19 的整數和為 190\n",
            "一到 20 的整數和為 210\n",
            "一到 21 的整數和為 231\n",
            "一到 22 的整數和為 253\n",
            "一到 23 的整數和為 276\n",
            "一到 24 的整數和為 300\n",
            "一到 25 的整數和為 325\n",
            "一到 26 的整數和為 351\n",
            "一到 27 的整數和為 378\n",
            "一到 28 的整數和為 406\n",
            "一到 29 的整數和為 435\n",
            "一到 30 的整數和為 465\n",
            "一到 31 的整數和為 496\n",
            "一到 32 的整數和為 528\n",
            "一到 33 的整數和為 561\n",
            "一到 34 的整數和為 595\n",
            "一到 35 的整數和為 630\n",
            "一到 36 的整數和為 666\n",
            "一到 37 的整數和為 703\n",
            "一到 38 的整數和為 741\n",
            "一到 39 的整數和為 780\n",
            "一到 40 的整數和為 820\n",
            "一到 41 的整數和為 861\n",
            "一到 42 的整數和為 903\n",
            "一到 43 的整數和為 946\n",
            "一到 44 的整數和為 990\n",
            "一到 45 的整數和為 1035\n",
            "一到 46 的整數和為 1081\n",
            "一到 47 的整數和為 1128\n",
            "一到 48 的整數和為 1176\n",
            "一到 49 的整數和為 1225\n",
            "一到 50 的整數和為 1275\n"
          ]
        }
      ]
    },
    {
      "cell_type": "code",
      "source": [
        "for j in range(1,5):\n",
        "  print(j)\n",
        "  for i in range(1,3):\n",
        "    k=i*j\n",
        "    print(j,'*',i,'=',k)"
      ],
      "metadata": {
        "colab": {
          "base_uri": "https://localhost:8080/"
        },
        "id": "Wwa6A1iDC6GK",
        "outputId": "13226064-ff6e-442d-a84d-fe7b4b173494"
      },
      "execution_count": 5,
      "outputs": [
        {
          "output_type": "stream",
          "name": "stdout",
          "text": [
            "1\n",
            "1 * 1 = 1\n",
            "1 * 2 = 2\n",
            "2\n",
            "2 * 1 = 2\n",
            "2 * 2 = 4\n",
            "3\n",
            "3 * 1 = 3\n",
            "3 * 2 = 6\n",
            "4\n",
            "4 * 1 = 4\n",
            "4 * 2 = 8\n"
          ]
        }
      ]
    },
    {
      "cell_type": "code",
      "source": [
        "for j in range(1,6):\n",
        "  print(j)\n",
        "  for i in range(1,3):\n",
        "    k=i*j\n",
        "    print(j,'*',i,'=',k)"
      ],
      "metadata": {
        "colab": {
          "base_uri": "https://localhost:8080/"
        },
        "id": "1-MXJOGBEa5v",
        "outputId": "5917dbba-9cf2-4d53-d511-ce7bfc6e9fad"
      },
      "execution_count": 6,
      "outputs": [
        {
          "output_type": "stream",
          "name": "stdout",
          "text": [
            "1\n",
            "1 * 1 = 1\n",
            "1 * 2 = 2\n",
            "2\n",
            "2 * 1 = 2\n",
            "2 * 2 = 4\n",
            "3\n",
            "3 * 1 = 3\n",
            "3 * 2 = 6\n",
            "4\n",
            "4 * 1 = 4\n",
            "4 * 2 = 8\n",
            "5\n",
            "5 * 1 = 5\n",
            "5 * 2 = 10\n"
          ]
        }
      ]
    },
    {
      "cell_type": "code",
      "source": [
        "for i in range(1,5):\n",
        "  if i ==4:\n",
        "    break\n",
        "  print(i,end='')"
      ],
      "metadata": {
        "colab": {
          "base_uri": "https://localhost:8080/"
        },
        "id": "ZfcSIJ2pFTgr",
        "outputId": "e207b6cb-65f1-4db2-d313-1099e7a9c568"
      },
      "execution_count": 7,
      "outputs": [
        {
          "output_type": "stream",
          "name": "stdout",
          "text": [
            "123"
          ]
        }
      ]
    },
    {
      "cell_type": "code",
      "source": [
        "for i in range(1,5):\n",
        "  if i ==4:\n",
        "    continue\n",
        "  print(i,end='')"
      ],
      "metadata": {
        "colab": {
          "base_uri": "https://localhost:8080/"
        },
        "id": "sRhvL40XFgOs",
        "outputId": "8a35491e-658c-4790-8b8c-9ad6feb69e50"
      },
      "execution_count": 8,
      "outputs": [
        {
          "output_type": "stream",
          "name": "stdout",
          "text": [
            "123"
          ]
        }
      ]
    },
    {
      "cell_type": "code",
      "source": [
        "count=0\n",
        "for string in'測試看看':\n",
        "  count+=1\n",
        "  if string=='看':\n",
        "    break\n",
        "  print(string)\n",
        "print('迴圈結束')\n",
        "print('迴圈執行了',count,'次')"
      ],
      "metadata": {
        "colab": {
          "base_uri": "https://localhost:8080/"
        },
        "id": "6Ila7YUjGqsZ",
        "outputId": "72789cda-e260-4881-839c-ab3de378fa59"
      },
      "execution_count": 9,
      "outputs": [
        {
          "output_type": "stream",
          "name": "stdout",
          "text": [
            "測\n",
            "試\n",
            "迴圈結束\n",
            "迴圈執行了 3 次\n"
          ]
        }
      ]
    },
    {
      "cell_type": "code",
      "source": [
        "for j in range(2,10):\n",
        "  for i in range(1,10):\n",
        "    k=i*j\n",
        "    print(j,'*',i,'=',k,end=' ')\n",
        "  print()"
      ],
      "metadata": {
        "colab": {
          "base_uri": "https://localhost:8080/"
        },
        "id": "C2-5fUalIFlb",
        "outputId": "1178c979-c40d-4189-d2ce-2dbfa973bc3e"
      },
      "execution_count": 43,
      "outputs": [
        {
          "output_type": "stream",
          "name": "stdout",
          "text": [
            "2 * 1 = 2 2 * 2 = 4 2 * 3 = 6 2 * 4 = 8 2 * 5 = 10 2 * 6 = 12 2 * 7 = 14 2 * 8 = 16 2 * 9 = 18 \n",
            "3 * 1 = 3 3 * 2 = 6 3 * 3 = 9 3 * 4 = 12 3 * 5 = 15 3 * 6 = 18 3 * 7 = 21 3 * 8 = 24 3 * 9 = 27 \n",
            "4 * 1 = 4 4 * 2 = 8 4 * 3 = 12 4 * 4 = 16 4 * 5 = 20 4 * 6 = 24 4 * 7 = 28 4 * 8 = 32 4 * 9 = 36 \n",
            "5 * 1 = 5 5 * 2 = 10 5 * 3 = 15 5 * 4 = 20 5 * 5 = 25 5 * 6 = 30 5 * 7 = 35 5 * 8 = 40 5 * 9 = 45 \n",
            "6 * 1 = 6 6 * 2 = 12 6 * 3 = 18 6 * 4 = 24 6 * 5 = 30 6 * 6 = 36 6 * 7 = 42 6 * 8 = 48 6 * 9 = 54 \n",
            "7 * 1 = 7 7 * 2 = 14 7 * 3 = 21 7 * 4 = 28 7 * 5 = 35 7 * 6 = 42 7 * 7 = 49 7 * 8 = 56 7 * 9 = 63 \n",
            "8 * 1 = 8 8 * 2 = 16 8 * 3 = 24 8 * 4 = 32 8 * 5 = 40 8 * 6 = 48 8 * 7 = 56 8 * 8 = 64 8 * 9 = 72 \n",
            "9 * 1 = 9 9 * 2 = 18 9 * 3 = 27 9 * 4 = 36 9 * 5 = 45 9 * 6 = 54 9 * 7 = 63 9 * 8 = 72 9 * 9 = 81 \n"
          ]
        }
      ]
    },
    {
      "cell_type": "code",
      "source": [
        "t=int(input('請輸入正整數'))\n",
        "for b in range(1,t+1):\n",
        "  if b % 5 ==0:\n",
        "    continue\n",
        "  print(b,end='')"
      ],
      "metadata": {
        "colab": {
          "base_uri": "https://localhost:8080/"
        },
        "id": "utXqWbT8KV3B",
        "outputId": "552812e0-a318-412a-fd9c-4232ccca9f48"
      },
      "execution_count": 55,
      "outputs": [
        {
          "output_type": "stream",
          "name": "stdout",
          "text": [
            "請輸入正整數6\n",
            "12346"
          ]
        }
      ]
    },
    {
      "cell_type": "code",
      "source": [
        "a=int(input(\"請輸入a的值:\"))\n",
        "b=int(input(\"請輸入b的值:\"))\n",
        "if a>b:\n",
        "    c=a\n",
        "else:\n",
        "    c=b\n",
        "m=(a*b)+1\n",
        "for i in range(c,m):\n",
        "    if i% a== 0 and i % b== 0:\n",
        "        print(a,'和',b,'最小公倍數=',i)\n",
        "        break"
      ],
      "metadata": {
        "colab": {
          "base_uri": "https://localhost:8080/"
        },
        "id": "i0Z0jTVhMX_H",
        "outputId": "ab333191-8276-4c6c-8d29-0ec7093a90e6"
      },
      "execution_count": 60,
      "outputs": [
        {
          "output_type": "stream",
          "name": "stdout",
          "text": [
            "請輸入a的值:5\n",
            "請輸入b的值:6\n",
            "5 和 6 最小公倍數= 30\n"
          ]
        }
      ]
    }
  ]
}